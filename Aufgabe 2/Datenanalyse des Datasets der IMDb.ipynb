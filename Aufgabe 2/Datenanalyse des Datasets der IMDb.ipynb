{
 "cells": [
  {
   "cell_type": "markdown",
   "id": "f4fa900c",
   "metadata": {},
   "source": [
    "## Aufgabe 2\n",
    "\n",
    "Finden Sie ein offenes Datenset und versuchen Sie mittels Python Fragen zu beantworten, Hypothesen zu belegen/widerlegen oder Daten zu visualisieren. Es müssen mindestens drei unterschiedliche Fragen, Hypothesen oder Visualisierungen sein. Erstellen\n",
    "Sie dazu ein Jupyter Notebook (oder ein Python-Script) mit folgenden Abschnitten - im\n",
    "Jupyter Notebook nutzen Sie bitte Markdownzellen für diese Dokumentation:\n",
    "\n",
    "• Beschreibung des Datensets (150 - 300 Wörter)\n",
    "\n",
    "• Fragestellungen (200 - 500 Wörter)\n",
    "\n",
    "• Datenanalyse in Python mit Kommentaren was und warum Sie bestimmte Schritte\n",
    "gemacht haben ggf. auch kurze Erläuterung der Ergebnisse\n",
    "\n",
    "• Diskussion (150 - 300 Wörter)\n",
    "\n",
    "## Beschreibung des Datasets\n",
    "\n",
    "Zur Bearbeitung der Aufgabe wurde das Datensets „title.ratings.tsv.gz“ der IMDb Movie Database ausgewählt. Das vorliegende Dataset enthält Werte zu Ratings und den dazugehörigen Stimmen der Nutzer*innen zu den jeweiligen Artikeln.\n",
    "\n",
    "## Fragestellungen\n",
    "    \n",
    "    1. Frage: Welches Medium enthält das höchste Rating?\n",
    "    2. Frage: Wo liegt der Durchschnitt und Median des Rankings?\n",
    "    3. Frage: Mit wie vielen Filmen liegt das Rating im Durchschnitt?\n"
   ]
  },
  {
   "cell_type": "code",
   "execution_count": 1,
   "id": "c41cb399",
   "metadata": {},
   "outputs": [],
   "source": [
    "import pandas as pd \n",
    "import seaborn as sns\n",
    "import matplotlib.pyplot as plt\n",
    "import csv"
   ]
  },
  {
   "cell_type": "code",
   "execution_count": 5,
   "id": "a57eaca7",
   "metadata": {},
   "outputs": [],
   "source": [
    "url = \"https://datasets.imdbws.com/title.ratings.tsv.gz\"\n",
    "imdb = pd.read_csv(url, sep=\"\\t\")\n",
    "\n",
    "# Der Parameter sep separiert die Werte durch Tabulatoren."
   ]
  },
  {
   "cell_type": "code",
   "execution_count": 6,
   "id": "7dabdff3",
   "metadata": {},
   "outputs": [
    {
     "data": {
      "text/html": [
       "<div>\n",
       "<style scoped>\n",
       "    .dataframe tbody tr th:only-of-type {\n",
       "        vertical-align: middle;\n",
       "    }\n",
       "\n",
       "    .dataframe tbody tr th {\n",
       "        vertical-align: top;\n",
       "    }\n",
       "\n",
       "    .dataframe thead th {\n",
       "        text-align: right;\n",
       "    }\n",
       "</style>\n",
       "<table border=\"1\" class=\"dataframe\">\n",
       "  <thead>\n",
       "    <tr style=\"text-align: right;\">\n",
       "      <th></th>\n",
       "      <th>tconst</th>\n",
       "      <th>averageRating</th>\n",
       "      <th>numVotes</th>\n",
       "    </tr>\n",
       "  </thead>\n",
       "  <tbody>\n",
       "    <tr>\n",
       "      <th>0</th>\n",
       "      <td>tt0000001</td>\n",
       "      <td>5.7</td>\n",
       "      <td>1809</td>\n",
       "    </tr>\n",
       "    <tr>\n",
       "      <th>1</th>\n",
       "      <td>tt0000002</td>\n",
       "      <td>6.0</td>\n",
       "      <td>233</td>\n",
       "    </tr>\n",
       "    <tr>\n",
       "      <th>2</th>\n",
       "      <td>tt0000003</td>\n",
       "      <td>6.5</td>\n",
       "      <td>1560</td>\n",
       "    </tr>\n",
       "    <tr>\n",
       "      <th>3</th>\n",
       "      <td>tt0000004</td>\n",
       "      <td>6.1</td>\n",
       "      <td>152</td>\n",
       "    </tr>\n",
       "    <tr>\n",
       "      <th>4</th>\n",
       "      <td>tt0000005</td>\n",
       "      <td>6.2</td>\n",
       "      <td>2382</td>\n",
       "    </tr>\n",
       "    <tr>\n",
       "      <th>...</th>\n",
       "      <td>...</td>\n",
       "      <td>...</td>\n",
       "      <td>...</td>\n",
       "    </tr>\n",
       "    <tr>\n",
       "      <th>1181022</th>\n",
       "      <td>tt9916682</td>\n",
       "      <td>5.6</td>\n",
       "      <td>5</td>\n",
       "    </tr>\n",
       "    <tr>\n",
       "      <th>1181023</th>\n",
       "      <td>tt9916690</td>\n",
       "      <td>6.6</td>\n",
       "      <td>5</td>\n",
       "    </tr>\n",
       "    <tr>\n",
       "      <th>1181024</th>\n",
       "      <td>tt9916720</td>\n",
       "      <td>5.3</td>\n",
       "      <td>127</td>\n",
       "    </tr>\n",
       "    <tr>\n",
       "      <th>1181025</th>\n",
       "      <td>tt9916766</td>\n",
       "      <td>7.1</td>\n",
       "      <td>17</td>\n",
       "    </tr>\n",
       "    <tr>\n",
       "      <th>1181026</th>\n",
       "      <td>tt9916778</td>\n",
       "      <td>7.5</td>\n",
       "      <td>31</td>\n",
       "    </tr>\n",
       "  </tbody>\n",
       "</table>\n",
       "<p>1181027 rows × 3 columns</p>\n",
       "</div>"
      ],
      "text/plain": [
       "            tconst  averageRating  numVotes\n",
       "0        tt0000001            5.7      1809\n",
       "1        tt0000002            6.0       233\n",
       "2        tt0000003            6.5      1560\n",
       "3        tt0000004            6.1       152\n",
       "4        tt0000005            6.2      2382\n",
       "...            ...            ...       ...\n",
       "1181022  tt9916682            5.6         5\n",
       "1181023  tt9916690            6.6         5\n",
       "1181024  tt9916720            5.3       127\n",
       "1181025  tt9916766            7.1        17\n",
       "1181026  tt9916778            7.5        31\n",
       "\n",
       "[1181027 rows x 3 columns]"
      ]
     },
     "execution_count": 6,
     "metadata": {},
     "output_type": "execute_result"
    }
   ],
   "source": [
    "imdb"
   ]
  },
  {
   "cell_type": "markdown",
   "id": "626362f3",
   "metadata": {},
   "source": [
    "Zur Beantwortung der Fragen wird die vorliegende Tabelle verwendet. Da sich die Zahlen regelmäßig ändern, kann es passieren. dass andere Werte zur Zeit der Ausführungen vorlagen."
   ]
  },
  {
   "cell_type": "code",
   "execution_count": null,
   "id": "ee3355e4",
   "metadata": {},
   "outputs": [],
   "source": []
  },
  {
   "cell_type": "markdown",
   "id": "b3693d7c",
   "metadata": {},
   "source": [
    "## Frage 1) Welches Medium enthält das höchste Ranking?"
   ]
  },
  {
   "cell_type": "code",
   "execution_count": 4,
   "id": "22303b30",
   "metadata": {},
   "outputs": [
    {
     "data": {
      "text/plain": [
       "0          5.7\n",
       "1          6.0\n",
       "2          6.5\n",
       "3          6.1\n",
       "4          6.2\n",
       "          ... \n",
       "1180672    5.6\n",
       "1180673    6.6\n",
       "1180674    5.3\n",
       "1180675    7.1\n",
       "1180676    7.5\n",
       "Name: averageRating, Length: 1180677, dtype: float64"
      ]
     },
     "execution_count": 4,
     "metadata": {},
     "output_type": "execute_result"
    }
   ],
   "source": [
    "# Verteilung der Spalte\n",
    "imdb [\"averageRating\"]"
   ]
  },
  {
   "cell_type": "code",
   "execution_count": 5,
   "id": "4a0dd5fa",
   "metadata": {},
   "outputs": [
    {
     "data": {
      "text/plain": [
       "224160      1.0\n",
       "830722      1.0\n",
       "830723      1.0\n",
       "735898      1.0\n",
       "557534      1.0\n",
       "           ... \n",
       "938215     10.0\n",
       "1060438    10.0\n",
       "938216     10.0\n",
       "583878     10.0\n",
       "939238     10.0\n",
       "Name: averageRating, Length: 1180677, dtype: float64"
      ]
     },
     "execution_count": 5,
     "metadata": {},
     "output_type": "execute_result"
    }
   ],
   "source": [
    "# Sortierung der Ratings vom kleinsten zum größten.\n",
    "imdb.averageRating.sort_values()"
   ]
  },
  {
   "cell_type": "markdown",
   "id": "3d1cca4f",
   "metadata": {},
   "source": [
    "Mithilfe der Variable \"sort_values\" ist es möglich die averageratings nach der Größe ihres Wertes zu sortieren.\n",
    "\n",
    "Anhand der vorherigen Sortierung lässt sich erkennen, dass mehrere Medien den Wert 10,0 als Rating besitzen."
   ]
  },
  {
   "cell_type": "code",
   "execution_count": 6,
   "id": "a6d20b7d",
   "metadata": {},
   "outputs": [],
   "source": [
    "hoch = imdb.averageRating.max()\n",
    "\n",
    "def hoch(imdb):\n",
    "    if imdb.averageRating == hoch:\n",
    "        print(imdb.tconst.averageRating)\n",
    "        return False"
   ]
  },
  {
   "cell_type": "code",
   "execution_count": null,
   "id": "ae121292",
   "metadata": {},
   "outputs": [],
   "source": []
  },
  {
   "cell_type": "markdown",
   "id": "11298baf",
   "metadata": {},
   "source": [
    "## Frage 2) In welchem Bereich liegt der Durchschnitt und Median der Rankings?"
   ]
  },
  {
   "cell_type": "code",
   "execution_count": 8,
   "id": "cab1a759",
   "metadata": {},
   "outputs": [
    {
     "data": {
      "text/plain": [
       "6.922514370991911"
      ]
     },
     "execution_count": 8,
     "metadata": {},
     "output_type": "execute_result"
    }
   ],
   "source": [
    "# Ermittlung des Durchschnitts\n",
    "imdb.averageRating.mean()"
   ]
  },
  {
   "cell_type": "markdown",
   "id": "691f1ffa",
   "metadata": {},
   "source": [
    "An dem Ergebnis lässt sich erkennen, dass die Nutzer*innen das Ranking der IMDb im Durchschnitt 6,9 bewertet wird."
   ]
  },
  {
   "cell_type": "code",
   "execution_count": 9,
   "id": "2d6b2c23",
   "metadata": {},
   "outputs": [
    {
     "data": {
      "text/plain": [
       "7.1"
      ]
     },
     "execution_count": 9,
     "metadata": {},
     "output_type": "execute_result"
    }
   ],
   "source": [
    "# Median (=Zentralwert)\n",
    "imdb.averageRating.median()"
   ]
  },
  {
   "cell_type": "markdown",
   "id": "b0875369",
   "metadata": {},
   "source": [
    "Anhand des Medians lässt sich genau die Mitte der Rankingverteilung bestimmen. In unserem Fall liegt der Zentralwert bei 7.1"
   ]
  },
  {
   "cell_type": "markdown",
   "id": "8ed1ae1f",
   "metadata": {},
   "source": [
    "## Frage 3) Mit wie vielen Filmen liegt das Rating im Durchschnitt?"
   ]
  },
  {
   "cell_type": "code",
   "execution_count": 10,
   "id": "eca9b757",
   "metadata": {},
   "outputs": [
    {
     "data": {
      "text/plain": [
       "6.922514370991911"
      ]
     },
     "execution_count": 10,
     "metadata": {},
     "output_type": "execute_result"
    }
   ],
   "source": [
    "# Dies kann man mithilfe der Bestimmung des Durchschnitts erkennen\n",
    "imdb.averageRating.mean()"
   ]
  },
  {
   "cell_type": "code",
   "execution_count": 11,
   "id": "b6945b0d",
   "metadata": {},
   "outputs": [],
   "source": [
    "# Zur Funktionalität wird das Ergebnis auf 6,93 aufgerundet.\n",
    "gol = imdb[\"averageRating\"]\n",
    "dat = imdb\n",
    "\n",
    "def gol(imdb):\n",
    "    if imdb.averageRating > 6.93:\n",
    "        print(dat)\n",
    "        return True\n",
    "    if imdb.averageRating < 6.93:\n",
    "        return False"
   ]
  },
  {
   "cell_type": "markdown",
   "id": "eb0645b5",
   "metadata": {},
   "source": [
    "Anhand dieses Befehles können wir leichter herausfinden, welche Filme in unserem gewünschten Durchschnitt zu finden sind."
   ]
  },
  {
   "cell_type": "code",
   "execution_count": 12,
   "id": "46570863",
   "metadata": {},
   "outputs": [
    {
     "data": {
      "text/plain": [
       "count    1.180677e+06\n",
       "mean     6.922514e+00\n",
       "std      1.397094e+00\n",
       "min      1.000000e+00\n",
       "25%      6.200000e+00\n",
       "50%      7.100000e+00\n",
       "75%      7.900000e+00\n",
       "max      1.000000e+01\n",
       "Name: averageRating, dtype: float64"
      ]
     },
     "execution_count": 12,
     "metadata": {},
     "output_type": "execute_result"
    }
   ],
   "source": [
    "imdb.averageRating.describe()"
   ]
  },
  {
   "cell_type": "markdown",
   "id": "97ce2230",
   "metadata": {},
   "source": [
    "Mithilfe des Befehls \"describe\" können die wichtigsten Informationen wie der Median,Durchschnitt und die Anzahl der Datensätze bestimmt werden. Die Blockverteilung liefert einen begrenzt erkennbaren Überblick."
   ]
  },
  {
   "cell_type": "markdown",
   "id": "38e280d2",
   "metadata": {},
   "source": []
  },
  {
   "cell_type": "markdown",
   "id": "4a2e9018",
   "metadata": {},
   "source": [
    "## Diskussion\n",
    "\n",
    "Wie anfangs zu erkennen war, ist es möglich das Datenset mittels des Parameters sep in eine erste grobe Tabellenauswertung einzuordnen. Mit der Variable \"sort_values\" werden die Werte anhand ihrer Größe sortiert - vom kleinsten bis zum größten. Die Ergebnisse zeigen, dass das kleinste Ranking 1,0 beträgt, während das größte Ranking einen Wert von 10,0 zeigt. \n",
    "\n",
    "Mit den Faktoren \"mean\" und \"median\" lassen sich der Durchschnitts- und der Zentralwert des gesamten Datasets bestimmen. Der Befehl \"describe\" stellt die zentralen Fakten der Daten in einem Überblick zusammen. "
   ]
  }
 ],
 "metadata": {
  "kernelspec": {
   "display_name": "Python 3",
   "language": "python",
   "name": "python3"
  },
  "language_info": {
   "codemirror_mode": {
    "name": "ipython",
    "version": 3
   },
   "file_extension": ".py",
   "mimetype": "text/x-python",
   "name": "python",
   "nbconvert_exporter": "python",
   "pygments_lexer": "ipython3",
   "version": "3.8.8"
  }
 },
 "nbformat": 4,
 "nbformat_minor": 5
}
